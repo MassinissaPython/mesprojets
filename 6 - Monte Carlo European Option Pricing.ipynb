{
 "cells": [
  {
   "cell_type": "code",
   "execution_count": 1,
   "metadata": {},
   "outputs": [],
   "source": [
    "import numpy as np \n",
    "import yfinance as yf \n",
    "from datetime import timedelta, datetime, date"
   ]
  },
  {
   "cell_type": "code",
   "execution_count": 54,
   "metadata": {},
   "outputs": [
    {
     "name": "stdout",
     "output_type": "stream",
     "text": [
      "[*********************100%%**********************]  1 of 1 completed\n"
     ]
    },
    {
     "data": {
      "text/html": [
       "<div>\n",
       "<style scoped>\n",
       "    .dataframe tbody tr th:only-of-type {\n",
       "        vertical-align: middle;\n",
       "    }\n",
       "\n",
       "    .dataframe tbody tr th {\n",
       "        vertical-align: top;\n",
       "    }\n",
       "\n",
       "    .dataframe thead th {\n",
       "        text-align: right;\n",
       "    }\n",
       "</style>\n",
       "<table border=\"1\" class=\"dataframe\">\n",
       "  <thead>\n",
       "    <tr style=\"text-align: right;\">\n",
       "      <th></th>\n",
       "      <th>Open</th>\n",
       "      <th>High</th>\n",
       "      <th>Low</th>\n",
       "      <th>Close</th>\n",
       "      <th>Adj Close</th>\n",
       "      <th>Volume</th>\n",
       "    </tr>\n",
       "    <tr>\n",
       "      <th>Date</th>\n",
       "      <th></th>\n",
       "      <th></th>\n",
       "      <th></th>\n",
       "      <th></th>\n",
       "      <th></th>\n",
       "      <th></th>\n",
       "    </tr>\n",
       "  </thead>\n",
       "  <tbody>\n",
       "    <tr>\n",
       "      <th>2023-12-29</th>\n",
       "      <td>193.899994</td>\n",
       "      <td>194.399994</td>\n",
       "      <td>191.729996</td>\n",
       "      <td>192.529999</td>\n",
       "      <td>192.529999</td>\n",
       "      <td>42628800</td>\n",
       "    </tr>\n",
       "    <tr>\n",
       "      <th>2024-01-02</th>\n",
       "      <td>187.149994</td>\n",
       "      <td>188.440002</td>\n",
       "      <td>183.889999</td>\n",
       "      <td>185.639999</td>\n",
       "      <td>185.639999</td>\n",
       "      <td>82488700</td>\n",
       "    </tr>\n",
       "    <tr>\n",
       "      <th>2024-01-03</th>\n",
       "      <td>184.220001</td>\n",
       "      <td>185.880005</td>\n",
       "      <td>183.429993</td>\n",
       "      <td>184.250000</td>\n",
       "      <td>184.250000</td>\n",
       "      <td>58414500</td>\n",
       "    </tr>\n",
       "    <tr>\n",
       "      <th>2024-01-04</th>\n",
       "      <td>182.149994</td>\n",
       "      <td>183.089996</td>\n",
       "      <td>180.880005</td>\n",
       "      <td>181.910004</td>\n",
       "      <td>181.910004</td>\n",
       "      <td>71919900</td>\n",
       "    </tr>\n",
       "    <tr>\n",
       "      <th>2024-01-05</th>\n",
       "      <td>182.149994</td>\n",
       "      <td>182.759995</td>\n",
       "      <td>181.759995</td>\n",
       "      <td>181.860001</td>\n",
       "      <td>181.860001</td>\n",
       "      <td>8259073</td>\n",
       "    </tr>\n",
       "  </tbody>\n",
       "</table>\n",
       "</div>"
      ],
      "text/plain": [
       "                  Open        High         Low       Close   Adj Close  \\\n",
       "Date                                                                     \n",
       "2023-12-29  193.899994  194.399994  191.729996  192.529999  192.529999   \n",
       "2024-01-02  187.149994  188.440002  183.889999  185.639999  185.639999   \n",
       "2024-01-03  184.220001  185.880005  183.429993  184.250000  184.250000   \n",
       "2024-01-04  182.149994  183.089996  180.880005  181.910004  181.910004   \n",
       "2024-01-05  182.149994  182.759995  181.759995  181.860001  181.860001   \n",
       "\n",
       "              Volume  \n",
       "Date                  \n",
       "2023-12-29  42628800  \n",
       "2024-01-02  82488700  \n",
       "2024-01-03  58414500  \n",
       "2024-01-04  71919900  \n",
       "2024-01-05   8259073  "
      ]
     },
     "execution_count": 54,
     "metadata": {},
     "output_type": "execute_result"
    }
   ],
   "source": [
    "# Telchargement des donnees de l'aciton \n",
    "\n",
    "stock_name = \"AAPL\"\n",
    "end_date = datetime.today()\n",
    "start_date = end_date - timedelta(days = 365) \n",
    "\n",
    "stock_data = yf.download(\n",
    "    stock_name, \n",
    "    start = start_date, \n",
    "    end = end_date\n",
    ")\n",
    "stock_data.tail()"
   ]
  },
  {
   "cell_type": "code",
   "execution_count": 59,
   "metadata": {},
   "outputs": [
    {
     "name": "stdout",
     "output_type": "stream",
     "text": [
      "Daily AAPL volatility 0.012753464970336909\n"
     ]
    }
   ],
   "source": [
    "# Calul de la volatilite de l'action \n",
    "\n",
    "daily_returns = stock_data[\"Adj Close\"].pct_change(1)\n",
    "stock_volatility = daily_returns.std()\n",
    "print(\"Daily\", stock_name, \"volatility\", stock_volatility)"
   ]
  },
  {
   "cell_type": "code",
   "execution_count": 74,
   "metadata": {},
   "outputs": [
    {
     "name": "stdout",
     "output_type": "stream",
     "text": [
      "Stock price :  Date\n",
      "2023-01-05    124.325089\n",
      "2023-01-06    128.899521\n",
      "2023-01-09    129.426559\n",
      "2023-01-10    130.003342\n",
      "2023-01-11    132.748001\n",
      "                 ...    \n",
      "2023-12-29    192.529999\n",
      "2024-01-02    185.639999\n",
      "2024-01-03    184.250000\n",
      "2024-01-04    181.910004\n",
      "2024-01-05    181.860001\n",
      "Name: Adj Close, Length: 252, dtype: float64\n"
     ]
    }
   ],
   "source": [
    "# Parametres d'une option europeenne \n",
    "\n",
    "stock_price = stock_data[\"Adj Close\"]\n",
    "strike_price = stock_price # at-the-money\n",
    "\n",
    "risk_free_rate = 0.04\n",
    "maturity = 1.0 # en annee \n",
    "\n",
    "print(\"Stock price : \", stock_price)"
   ]
  },
  {
   "cell_type": "code",
   "execution_count": 111,
   "metadata": {},
   "outputs": [],
   "source": [
    "# Fonction afin de calculer une option européenne avec la méthode de Monte Carlo \n",
    "\n",
    "def european_option_price(S0, K, r, v, T, nSim, flag): \n",
    "    z = np.random.standard_normal(nSim)\n",
    "    S_fwd = S0 * np.exp((r-0.5 * v**2)*T + v*np.sqrt(T)*z)\n",
    "\n",
    "    if flag == \"call\":\n",
    "        payoff = np.maximum(S_fwd - K, 0)\n",
    "    elif flag ==\"put\":   \n",
    "        payoff =  np.maximum(K - S_fwd, 0)\n",
    "    else : \n",
    "        print(\"incorrect flag\") \n",
    "        return \n",
    "    \n",
    "    return np.exp(-r*T) * np.sum(payoff)/nSim"
   ]
  },
  {
   "cell_type": "code",
   "execution_count": 8,
   "metadata": {},
   "outputs": [
    {
     "name": "stdout",
     "output_type": "stream",
     "text": [
      "Call price :  10.410256622637416\n"
     ]
    }
   ],
   "source": [
    "nSim = 100000\n",
    "stock_price = 100.0\n",
    "strike_price = 100.0\n",
    "risk_free_rate = 0.05\n",
    "stock_volatility = 0.2\n",
    "maturity = 1.0\n",
    "nSim = 100000\n",
    "\n",
    "call_price = european_option_price(\n",
    "    stock_price,\n",
    "    strike_price, \n",
    "    risk_free_rate,\n",
    "    stock_volatility,\n",
    "    maturity, \n",
    "    nSim, \n",
    "    \"call\"\n",
    ")\n",
    "\n",
    "print(\"Call price : \", call_price)\n"
   ]
  }
 ],
 "metadata": {
  "kernelspec": {
   "display_name": "Python 3",
   "language": "python",
   "name": "python3"
  },
  "language_info": {
   "codemirror_mode": {
    "name": "ipython",
    "version": 3
   },
   "file_extension": ".py",
   "mimetype": "text/x-python",
   "name": "python",
   "nbconvert_exporter": "python",
   "pygments_lexer": "ipython3",
   "version": "3.12.0"
  }
 },
 "nbformat": 4,
 "nbformat_minor": 2
}
