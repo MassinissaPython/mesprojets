{
 "cells": [
  {
   "cell_type": "code",
   "execution_count": null,
   "metadata": {},
   "outputs": [],
   "source": [
    "# EN : Black and Scholes formula option pricing \n",
    "# FR : Pricing d'options avec la formule Black and Scholes \n",
    "\n",
    "# Define variables \n",
    "# r : interest rate\n",
    "# S : Underlying price (spot)\n",
    "# K : Strike price\n",
    "# T : Time to expire\n",
    "# type = \"C\"\" : Call option"
   ]
  },
  {
   "cell_type": "code",
   "execution_count": 10,
   "metadata": {},
   "outputs": [],
   "source": [
    "import numpy as np \n",
    "from scipy.stats import norm"
   ]
  },
  {
   "cell_type": "code",
   "execution_count": 13,
   "metadata": {},
   "outputs": [],
   "source": [
    "r = 0.01\n",
    "S = 30\n",
    "K = 40\n",
    "T = 240/365 \n",
    "sigma = 0.30"
   ]
  },
  {
   "cell_type": "code",
   "execution_count": 19,
   "metadata": {},
   "outputs": [
    {
     "name": "stdout",
     "output_type": "stream",
     "text": [
      "Option price is: 0.51\n"
     ]
    }
   ],
   "source": [
    "def BS(r, S, K, T, sigma, type= \"C\"): \n",
    "    \"Calculate BS option price for a call or put\"\n",
    "    d1 = (np.log(S/K) + (r+sigma**2/2)*T)/(sigma*np.sqrt(T))\n",
    "    d2 = d1 - sigma*np.sqrt(T)\n",
    "\n",
    "    try:\n",
    "        if type == \"C\":\n",
    "            price = S*norm.cdf(d1, 0, 1) - K*np.exp(-r*T)*norm.cdf(d2, 0, 1)\n",
    "        elif type == \"P\":\n",
    "            price = K*np.exp(-r*T)*norm.cdf(-d2, 0, 1) - S*norm.cdf(-d1, 0, 1)\n",
    "        return price \n",
    "    except:\n",
    "        print(\"Please confirm all option parameters above !\")\n",
    "\n",
    "print(\"Option price is:\", round(BS(r, S, K, T, sigma, type= \"C\"),2))"
   ]
  }
 ],
 "metadata": {
  "kernelspec": {
   "display_name": "Python 3",
   "language": "python",
   "name": "python3"
  },
  "language_info": {
   "codemirror_mode": {
    "name": "ipython",
    "version": 3
   },
   "file_extension": ".py",
   "mimetype": "text/x-python",
   "name": "python",
   "nbconvert_exporter": "python",
   "pygments_lexer": "ipython3",
   "version": "3.12.0"
  }
 },
 "nbformat": 4,
 "nbformat_minor": 2
}
